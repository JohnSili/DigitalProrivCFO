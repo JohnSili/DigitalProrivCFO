{
  "nbformat": 4,
  "nbformat_minor": 0,
  "metadata": {
    "colab": {
      "provenance": [],
      "authorship_tag": "ABX9TyNF+SlWOT7Bpz3+do7d+Cvb",
      "include_colab_link": true
    },
    "kernelspec": {
      "name": "python3",
      "display_name": "Python 3"
    },
    "language_info": {
      "name": "python"
    }
  },
  "cells": [
    {
      "cell_type": "markdown",
      "metadata": {
        "id": "view-in-github",
        "colab_type": "text"
      },
      "source": [
        "<a href=\"https://colab.research.google.com/github/JohnSili/DigitalProrivCFO/blob/main/Untitled54.ipynb\" target=\"_parent\"><img src=\"https://colab.research.google.com/assets/colab-badge.svg\" alt=\"Open In Colab\"/></a>"
      ]
    },
    {
      "cell_type": "code",
      "execution_count": 1,
      "metadata": {
        "colab": {
          "base_uri": "https://localhost:8080/"
        },
        "id": "BKcYO1U1xjrb",
        "outputId": "9bb6b1fb-fe45-4fe5-ab4f-8b6d0cf8fa15"
      },
      "outputs": [
        {
          "output_type": "stream",
          "name": "stdout",
          "text": [
            "git version 2.34.1\n"
          ]
        }
      ],
      "source": [
        "!git --version"
      ]
    },
    {
      "cell_type": "code",
      "source": [
        "import zipfile\n",
        "import os\n",
        "\n",
        "zip_path = '/content/ozer_QA.zip'\n",
        "extracted_path = '/content'\n",
        "\n",
        "# Распаковка архива\n",
        "with zipfile.ZipFile(zip_path, 'r') as zip_ref:\n",
        "    zip_ref.extractall(extracted_path)\n",
        "\n",
        "os.listdir(extracted_path)"
      ],
      "metadata": {
        "colab": {
          "base_uri": "https://localhost:8080/"
        },
        "id": "F1nlwUQjyMGc",
        "outputId": "4e644a2a-6998-4e65-ac3c-0229c0bd7aed"
      },
      "execution_count": 1,
      "outputs": [
        {
          "output_type": "execute_result",
          "data": {
            "text/plain": [
              "['.config',\n",
              " 'ozer_QA',\n",
              " 'venv',\n",
              " '.ipynb_checkpoints',\n",
              " 'ozer_QA.zip',\n",
              " 'sample_data']"
            ]
          },
          "metadata": {},
          "execution_count": 1
        }
      ]
    },
    {
      "cell_type": "code",
      "source": [
        "!cd /content/ozer_QA\n",
        "!ls"
      ],
      "metadata": {
        "colab": {
          "base_uri": "https://localhost:8080/"
        },
        "id": "0fF2UyhU1GBj",
        "outputId": "d2934ce1-c717-4b5a-ca23-b017eafe3b2c"
      },
      "execution_count": 20,
      "outputs": [
        {
          "output_type": "stream",
          "name": "stdout",
          "text": [
            "ozer_QA  ozer_QA.zip  sample_data  venv\n"
          ]
        }
      ]
    },
    {
      "cell_type": "code",
      "source": [
        "!pip install nest-asyncio"
      ],
      "metadata": {
        "colab": {
          "base_uri": "https://localhost:8080/"
        },
        "id": "eDyzkES32rPj",
        "outputId": "4d618067-611b-4008-bf4d-ce0f93c34bf4"
      },
      "execution_count": 25,
      "outputs": [
        {
          "output_type": "stream",
          "name": "stdout",
          "text": [
            "Requirement already satisfied: nest-asyncio in /usr/local/lib/python3.10/dist-packages (1.5.8)\n"
          ]
        }
      ]
    },
    {
      "cell_type": "code",
      "source": [
        "import nest_asyncio\n",
        "nest_asyncio.apply()"
      ],
      "metadata": {
        "id": "xUkjEHnZ2sOy"
      },
      "execution_count": 26,
      "outputs": []
    },
    {
      "cell_type": "code",
      "source": [
        "import asyncio\n",
        "\n",
        "from ozer_QA.app.config import API_KEY, CLIENT_ID\n",
        "from ozer_QA.app.ozon_sdk_python.ozon_sdk.ozon_api import OzonApi\n",
        "\n",
        "async def main(sup):\n",
        "    answer = asyncio.create_task(sup.get_product_list())\n",
        "    await answer\n",
        "    print(answer.result())\n",
        "\n",
        "if __name__ == '__main__':\n",
        "    supplier = OzonApi(CLIENT_ID, API_KEY)\n",
        "    asyncio.get_event_loop().run_until_complete(main(supplier))"
      ],
      "metadata": {
        "colab": {
          "base_uri": "https://localhost:8080/"
        },
        "id": "DoQzO8_l1Itf",
        "outputId": "99a2d53e-c897-4374-a278-8237c7a16781"
      },
      "execution_count": 27,
      "outputs": [
        {
          "output_type": "stream",
          "name": "stdout",
          "text": [
            "{'result': {'items': [{'product_id': 308335682, 'offer_id': 'M-KRYTOX-GPL-5G', 'is_fbo_visible': True, 'is_fbs_visible': True, 'archived': False, 'is_discounted': False}, {'product_id': 308338714, 'offer_id': 'M-SUPERLUBE-5G', 'is_fbo_visible': True, 'is_fbs_visible': True, 'archived': False, 'is_discounted': False}, {'product_id': 308346428, 'offer_id': 'M-KRYTOX-205-5G', 'is_fbo_visible': True, 'is_fbs_visible': True, 'archived': False, 'is_discounted': False}, {'product_id': 308351083, 'offer_id': 'M-CHRISTOLUBE-5G', 'is_fbo_visible': True, 'is_fbs_visible': True, 'archived': False, 'is_discounted': False}, {'product_id': 308359283, 'offer_id': 'S-KTT-PEACH-70', 'is_fbo_visible': True, 'is_fbs_visible': True, 'archived': False, 'is_discounted': False}, {'product_id': 309291631, 'offer_id': 'M-OPENER-APPLE', 'is_fbo_visible': True, 'is_fbs_visible': True, 'archived': False, 'is_discounted': False}, {'product_id': 309747219, 'offer_id': 'S-KTT-PEACH-110', 'is_fbo_visible': True, 'is_fbs_visible': True, 'archived': False, 'is_discounted': False}, {'product_id': 309747224, 'offer_id': 'S-KTT-PEACH-90', 'is_fbo_visible': True, 'is_fbs_visible': True, 'archived': False, 'is_discounted': False}, {'product_id': 309747227, 'offer_id': 'S-KTT-PEACH-10', 'is_fbo_visible': True, 'is_fbs_visible': True, 'archived': False, 'is_discounted': False}, {'product_id': 309962170, 'offer_id': 'M-BRUSH-BLUE', 'is_fbo_visible': True, 'is_fbs_visible': True, 'archived': False, 'is_discounted': False}, {'product_id': 310316989, 'offer_id': 'M-SHUMKA-BLACK-BIPLAST-', 'is_fbo_visible': True, 'is_fbs_visible': True, 'archived': False, 'is_discounted': False}, {'product_id': 311564009, 'offer_id': 'S-KTT-PEACH-45', 'is_fbo_visible': True, 'is_fbs_visible': True, 'archived': False, 'is_discounted': False}, {'product_id': 311967173, 'offer_id': 'M-PULLER-MULTYPULLER', 'is_fbo_visible': True, 'is_fbs_visible': True, 'archived': False, 'is_discounted': False}, {'product_id': 313294894, 'offer_id': 'M-SWITCH-FILM-HTV', 'is_fbo_visible': True, 'is_fbs_visible': True, 'archived': False, 'is_discounted': False}, {'product_id': 334183677, 'offer_id': 'M-PULLER-SWITCHES', 'is_fbo_visible': True, 'is_fbs_visible': True, 'archived': False, 'is_discounted': False}, {'product_id': 335946557, 'offer_id': 'M-PULLER-KEYCAP', 'is_fbo_visible': True, 'is_fbs_visible': True, 'archived': False, 'is_discounted': False}, {'product_id': 336184074, 'offer_id': 'S-EVO-PURPLE-70', 'is_fbo_visible': True, 'is_fbs_visible': True, 'archived': False, 'is_discounted': False}, {'product_id': 336752789, 'offer_id': 'M-STICKER-HOLEEMOD', 'is_fbo_visible': True, 'is_fbs_visible': True, 'archived': False, 'is_discounted': False}, {'product_id': 336755395, 'offer_id': 'M-MODUL-STICKER-EVA', 'is_fbo_visible': True, 'is_fbs_visible': True, 'archived': False, 'is_discounted': False}, {'product_id': 340778437, 'offer_id': 'S-EVORED-45', 'is_fbo_visible': True, 'is_fbs_visible': True, 'archived': False, 'is_discounted': False}, {'product_id': 340779134, 'offer_id': 'S-EVORED-90', 'is_fbo_visible': True, 'is_fbs_visible': True, 'archived': False, 'is_discounted': False}, {'product_id': 340779816, 'offer_id': 'S-EVORED-110', 'is_fbo_visible': True, 'is_fbs_visible': True, 'archived': False, 'is_discounted': False}, {'product_id': 346868548, 'offer_id': 'M-GLIDE-GPRO-WHITE', 'is_fbo_visible': True, 'is_fbs_visible': True, 'archived': False, 'is_discounted': False}, {'product_id': 346870322, 'offer_id': 'M-GLIDE-GPRO-BLACK', 'is_fbo_visible': True, 'is_fbs_visible': True, 'archived': False, 'is_discounted': False}, {'product_id': 359054860, 'offer_id': 'M-NABOR-SMAZKA', 'is_fbo_visible': True, 'is_fbs_visible': True, 'archived': False, 'is_discounted': False}, {'product_id': 359057388, 'offer_id': 'M-LOPATKI', 'is_fbo_visible': True, 'is_fbs_visible': True, 'archived': False, 'is_discounted': False}, {'product_id': 359059215, 'offer_id': 'M-PINCET-BLACK', 'is_fbo_visible': True, 'is_fbs_visible': True, 'archived': False, 'is_discounted': False}, {'product_id': 359064388, 'offer_id': 'M-SUPERLUBE-OIL-5G', 'is_fbo_visible': True, 'is_fbs_visible': True, 'archived': False, 'is_discounted': False}, {'product_id': 359068707, 'offer_id': 'M-BRUSH-BLACK', 'is_fbo_visible': True, 'is_fbs_visible': True, 'archived': False, 'is_discounted': False}, {'product_id': 359076211, 'offer_id': 'M-STABS-JKLP-PURPLE', 'is_fbo_visible': True, 'is_fbs_visible': True, 'archived': False, 'is_discounted': False}, {'product_id': 359076625, 'offer_id': 'M-STABS-JKLP-BLACK', 'is_fbo_visible': True, 'is_fbs_visible': True, 'archived': False, 'is_discounted': False}, {'product_id': 359076809, 'offer_id': 'M-STABS-JKLP-WHITE', 'is_fbo_visible': True, 'is_fbs_visible': True, 'archived': False, 'is_discounted': False}, {'product_id': 359083272, 'offer_id': 'M-SWITCH-FILM-KEYS', 'is_fbo_visible': True, 'is_fbs_visible': True, 'archived': False, 'is_discounted': False}, {'product_id': 359083540, 'offer_id': 'M-SWITCH-FILM-EVA', 'is_fbo_visible': True, 'is_fbs_visible': True, 'archived': False, 'is_discounted': False}, {'product_id': 361813502, 'offer_id': 'M-STICKER-UNDER-SWITCH-KELOWNA', 'is_fbo_visible': True, 'is_fbs_visible': True, 'archived': False, 'is_discounted': False}, {'product_id': 373439142, 'offer_id': 'M-STABS-PLATE-MOUNT-BLUE', 'is_fbo_visible': True, 'is_fbs_visible': True, 'archived': False, 'is_discounted': False}, {'product_id': 379161526, 'offer_id': 'K-PUDDING-WHITE', 'is_fbo_visible': True, 'is_fbs_visible': True, 'archived': False, 'is_discounted': False}, {'product_id': 379161528, 'offer_id': 'K-COFFIE', 'is_fbo_visible': True, 'is_fbs_visible': True, 'archived': False, 'is_discounted': False}, {'product_id': 379161531, 'offer_id': 'K-INDUSTRY', 'is_fbo_visible': True, 'is_fbs_visible': True, 'archived': False, 'is_discounted': False}, {'product_id': 379161532, 'offer_id': 'K-8008', 'is_fbo_visible': True, 'is_fbs_visible': True, 'archived': False, 'is_discounted': False}, {'product_id': 379161537, 'offer_id': 'K-PROGRAMMIST-OFFLINE', 'is_fbo_visible': True, 'is_fbs_visible': True, 'archived': False, 'is_discounted': False}, {'product_id': 379161538, 'offer_id': 'K-CAT-PINK', 'is_fbo_visible': True, 'is_fbs_visible': True, 'archived': False, 'is_discounted': False}, {'product_id': 381335661, 'offer_id': 'M-XBATALKA', 'is_fbo_visible': True, 'is_fbs_visible': True, 'archived': False, 'is_discounted': False}, {'product_id': 381342606, 'offer_id': 'M-STABS-PLATE-MOUNT-YELLOW', 'is_fbo_visible': True, 'is_fbs_visible': True, 'archived': False, 'is_discounted': False}, {'product_id': 381407475, 'offer_id': 'K-PUDDING-BLACK', 'is_fbo_visible': True, 'is_fbs_visible': True, 'archived': False, 'is_discounted': False}, {'product_id': 390465133, 'offer_id': 'S-KTT-GRAPEFRUIT-70', 'is_fbo_visible': True, 'is_fbs_visible': True, 'archived': False, 'is_discounted': False}, {'product_id': 401207334, 'offer_id': 'M-SUPERLUBE-OIL-6G', 'is_fbo_visible': True, 'is_fbs_visible': True, 'archived': False, 'is_discounted': False}, {'product_id': 401207369, 'offer_id': 'M-SUPERLUBE-OIL-7G', 'is_fbo_visible': True, 'is_fbs_visible': True, 'archived': False, 'is_discounted': False}, {'product_id': 401207377, 'offer_id': 'M-SUPERLUBE-OIL-8G', 'is_fbo_visible': True, 'is_fbs_visible': True, 'archived': False, 'is_discounted': False}, {'product_id': 401207456, 'offer_id': 'M-SUPERLUBE-OIL-9G', 'is_fbo_visible': True, 'is_fbs_visible': True, 'archived': False, 'is_discounted': False}, {'product_id': 401207461, 'offer_id': 'M-SUPERLUBE-OIL-10G', 'is_fbo_visible': False, 'is_fbs_visible': True, 'archived': False, 'is_discounted': False}, {'product_id': 401207475, 'offer_id': 'M-SUPERLUBE-OIL-15G', 'is_fbo_visible': True, 'is_fbs_visible': True, 'archived': False, 'is_discounted': False}, {'product_id': 409908842, 'offer_id': 'K-BOBAFETA', 'is_fbo_visible': True, 'is_fbs_visible': True, 'archived': False, 'is_discounted': False}, {'product_id': 409908847, 'offer_id': 'K-GRAY-AND-YELLOW', 'is_fbo_visible': True, 'is_fbs_visible': True, 'archived': False, 'is_discounted': False}, {'product_id': 409908857, 'offer_id': 'K-MINIMALISM', 'is_fbo_visible': True, 'is_fbs_visible': True, 'archived': False, 'is_discounted': False}, {'product_id': 409917337, 'offer_id': 'B-GAS-WHITE', 'is_fbo_visible': True, 'is_fbs_visible': True, 'archived': False, 'is_discounted': False}, {'product_id': 409955098, 'offer_id': 'B-JAMES-DONKEY-A3-WHITE', 'is_fbo_visible': True, 'is_fbs_visible': True, 'archived': False, 'is_discounted': False}, {'product_id': 409955437, 'offer_id': 'B-JAMES-DONKEY-A3-BLACK', 'is_fbo_visible': True, 'is_fbs_visible': True, 'archived': False, 'is_discounted': False}, {'product_id': 410650947, 'offer_id': 'M-ORING', 'is_fbo_visible': True, 'is_fbs_visible': True, 'archived': False, 'is_discounted': False}, {'product_id': 410665088, 'offer_id': 'K-RABBIT', 'is_fbo_visible': True, 'is_fbs_visible': True, 'archived': False, 'is_discounted': False}, {'product_id': 410665089, 'offer_id': 'K-INSPERATION', 'is_fbo_visible': True, 'is_fbs_visible': True, 'archived': False, 'is_discounted': False}, {'product_id': 410665090, 'offer_id': 'K-GRAY-AND-PINK-8008', 'is_fbo_visible': True, 'is_fbs_visible': True, 'archived': False, 'is_discounted': False}, {'product_id': 410665091, 'offer_id': 'K-EVANGELION', 'is_fbo_visible': True, 'is_fbs_visible': True, 'archived': False, 'is_discounted': False}, {'product_id': 418694719, 'offer_id': 'K-CLASSIC-BLACK', 'is_fbo_visible': True, 'is_fbs_visible': True, 'archived': False, 'is_discounted': False}, {'product_id': 418695379, 'offer_id': 'K-WHITE-CHERRY', 'is_fbo_visible': True, 'is_fbs_visible': True, 'archived': False, 'is_discounted': False}, {'product_id': 418695851, 'offer_id': 'K-CLASSIC-WHITE-RED', 'is_fbo_visible': True, 'is_fbs_visible': True, 'archived': False, 'is_discounted': False}, {'product_id': 418695854, 'offer_id': 'K-CLASSIC-WHITE-BLUE-V1', 'is_fbo_visible': True, 'is_fbs_visible': True, 'archived': False, 'is_discounted': False}, {'product_id': 419207553, 'offer_id': 'S-KTT-GRAPEFRUIT-90', 'is_fbo_visible': True, 'is_fbs_visible': True, 'archived': False, 'is_discounted': False}, {'product_id': 419209787, 'offer_id': 'S-KTT-GRAPEFRUIT-110', 'is_fbo_visible': True, 'is_fbs_visible': True, 'archived': False, 'is_discounted': False}, {'product_id': 419214274, 'offer_id': 'S-KTT-GRAPEFRUIT-30', 'is_fbo_visible': True, 'is_fbs_visible': True, 'archived': False, 'is_discounted': False}, {'product_id': 419214341, 'offer_id': 'S-KTT-GRAPEFRUIT-10', 'is_fbo_visible': True, 'is_fbs_visible': True, 'archived': False, 'is_discounted': False}, {'product_id': 420527652, 'offer_id': 'M-GLIDE-GPRO-SUPERLIGHT-EVA01', 'is_fbo_visible': True, 'is_fbs_visible': True, 'archived': False, 'is_discounted': False}, {'product_id': 420536712, 'offer_id': 'M-GLIDE-GPRO-SUPERLIGHT-PRINTSTREAM', 'is_fbo_visible': True, 'is_fbs_visible': True, 'archived': False, 'is_discounted': False}, {'product_id': 420536827, 'offer_id': 'M-GLIDE-GPRO-SUPERLIGHT-GALAXY', 'is_fbo_visible': True, 'is_fbs_visible': True, 'archived': False, 'is_discounted': False}, {'product_id': 420537004, 'offer_id': 'M-GLIDE-GPRO-WIRELESS-CYBERPUNK', 'is_fbo_visible': True, 'is_fbs_visible': True, 'archived': False, 'is_discounted': False}, {'product_id': 420537174, 'offer_id': 'M-GLIDE-RAZER-GALAXY', 'is_fbo_visible': True, 'is_fbs_visible': True, 'archived': False, 'is_discounted': False}, {'product_id': 424284935, 'offer_id': 'M-SHUMKA-GRAY-BIPLAST', 'is_fbo_visible': True, 'is_fbs_visible': True, 'archived': False, 'is_discounted': False}, {'product_id': 424284948, 'offer_id': 'M-SHUMKA-VOYLOK', 'is_fbo_visible': True, 'is_fbs_visible': True, 'archived': False, 'is_discounted': False}, {'product_id': 424324749, 'offer_id': 'M-SHUMKA-3-IN-1', 'is_fbo_visible': True, 'is_fbs_visible': True, 'archived': False, 'is_discounted': False}, {'product_id': 425249961, 'offer_id': 'K-ULTRAMARINE-SA', 'is_fbo_visible': True, 'is_fbs_visible': True, 'archived': False, 'is_discounted': False}, {'product_id': 425250126, 'offer_id': 'K-SUNNY-SA', 'is_fbo_visible': True, 'is_fbs_visible': True, 'archived': False, 'is_discounted': False}, {'product_id': 429116781, 'offer_id': 'M-GLIDE-GPRO-SUPERLIGHT-GLASS', 'is_fbo_visible': True, 'is_fbs_visible': True, 'archived': False, 'is_discounted': False}, {'product_id': 433582410, 'offer_id': 'K-COWBOI-SDA', 'is_fbo_visible': True, 'is_fbs_visible': True, 'archived': False, 'is_discounted': False}, {'product_id': 439422428, 'offer_id': 'M-SHUMKA-KEYCAP-PROBEL', 'is_fbo_visible': True, 'is_fbs_visible': True, 'archived': False, 'is_discounted': False}, {'product_id': 439467127, 'offer_id': 'M-KRYTOX-BDZ-5G', 'is_fbo_visible': True, 'is_fbs_visible': True, 'archived': False, 'is_discounted': False}, {'product_id': 439467130, 'offer_id': 'M-KRYTOX-BDZ-8G', 'is_fbo_visible': True, 'is_fbs_visible': True, 'archived': False, 'is_discounted': False}, {'product_id': 439467131, 'offer_id': 'M-KRYTOX-BDZ-9G', 'is_fbo_visible': True, 'is_fbs_visible': True, 'archived': False, 'is_discounted': False}, {'product_id': 440463070, 'offer_id': 'S-GATERON-GRPO-V2-10', 'is_fbo_visible': True, 'is_fbs_visible': True, 'archived': False, 'is_discounted': False}, {'product_id': 440480377, 'offer_id': 'K-SUSHI-PBT', 'is_fbo_visible': True, 'is_fbs_visible': True, 'archived': False, 'is_discounted': False}, {'product_id': 440919726, 'offer_id': 'K-COFFIE-GRAY-SPACE', 'is_fbo_visible': True, 'is_fbs_visible': True, 'archived': False, 'is_discounted': False}, {'product_id': 443981911, 'offer_id': 'B-MMD75-BLACK', 'is_fbo_visible': True, 'is_fbs_visible': True, 'archived': False, 'is_discounted': False}, {'product_id': 443981912, 'offer_id': 'B-MMD75-WHITE', 'is_fbo_visible': True, 'is_fbs_visible': True, 'archived': False, 'is_discounted': False}, {'product_id': 445717750, 'offer_id': 'M-VIPRYAMITEL', 'is_fbo_visible': True, 'is_fbs_visible': True, 'archived': False, 'is_discounted': False}, {'product_id': 467309921, 'offer_id': 'B-GMK67-BLACK', 'is_fbo_visible': True, 'is_fbs_visible': True, 'archived': False, 'is_discounted': False}, {'product_id': 467310051, 'offer_id': 'B-GMK67-WHITE', 'is_fbo_visible': True, 'is_fbs_visible': True, 'archived': False, 'is_discounted': False}, {'product_id': 468075537, 'offer_id': 'S-LEOBOG-BOX-V3-45', 'is_fbo_visible': True, 'is_fbs_visible': True, 'archived': False, 'is_discounted': False}, {'product_id': 468075538, 'offer_id': 'S-KTT-KANG-WHITE-45', 'is_fbo_visible': True, 'is_fbs_visible': True, 'archived': False, 'is_discounted': False}, {'product_id': 468075540, 'offer_id': 'S-LEOBOG-BOX-V3-90', 'is_fbo_visible': True, 'is_fbs_visible': True, 'archived': False, 'is_discounted': False}, {'product_id': 468075541, 'offer_id': 'S-OUTEMU-SILENT-PEACH-45', 'is_fbo_visible': True, 'is_fbs_visible': True, 'archived': False, 'is_discounted': False}, {'product_id': 468075542, 'offer_id': 'S-EQUALS-TANGERINE-70', 'is_fbo_visible': True, 'is_fbs_visible': True, 'archived': False, 'is_discounted': False}], 'total': 400, 'last_id': 'WyI0NjgwNzU1NDIiLCI0NjgwNzU1NDIiXQ=='}}\n",
            "result=ProductList(items=[ProductListItems(offer_id='M-KRYTOX-GPL-5G', product_id=308335682), ProductListItems(offer_id='M-SUPERLUBE-5G', product_id=308338714), ProductListItems(offer_id='M-KRYTOX-205-5G', product_id=308346428), ProductListItems(offer_id='M-CHRISTOLUBE-5G', product_id=308351083), ProductListItems(offer_id='S-KTT-PEACH-70', product_id=308359283), ProductListItems(offer_id='M-OPENER-APPLE', product_id=309291631), ProductListItems(offer_id='S-KTT-PEACH-110', product_id=309747219), ProductListItems(offer_id='S-KTT-PEACH-90', product_id=309747224), ProductListItems(offer_id='S-KTT-PEACH-10', product_id=309747227), ProductListItems(offer_id='M-BRUSH-BLUE', product_id=309962170), ProductListItems(offer_id='M-SHUMKA-BLACK-BIPLAST-', product_id=310316989), ProductListItems(offer_id='S-KTT-PEACH-45', product_id=311564009), ProductListItems(offer_id='M-PULLER-MULTYPULLER', product_id=311967173), ProductListItems(offer_id='M-SWITCH-FILM-HTV', product_id=313294894), ProductListItems(offer_id='M-PULLER-SWITCHES', product_id=334183677), ProductListItems(offer_id='M-PULLER-KEYCAP', product_id=335946557), ProductListItems(offer_id='S-EVO-PURPLE-70', product_id=336184074), ProductListItems(offer_id='M-STICKER-HOLEEMOD', product_id=336752789), ProductListItems(offer_id='M-MODUL-STICKER-EVA', product_id=336755395), ProductListItems(offer_id='S-EVORED-45', product_id=340778437), ProductListItems(offer_id='S-EVORED-90', product_id=340779134), ProductListItems(offer_id='S-EVORED-110', product_id=340779816), ProductListItems(offer_id='M-GLIDE-GPRO-WHITE', product_id=346868548), ProductListItems(offer_id='M-GLIDE-GPRO-BLACK', product_id=346870322), ProductListItems(offer_id='M-NABOR-SMAZKA', product_id=359054860), ProductListItems(offer_id='M-LOPATKI', product_id=359057388), ProductListItems(offer_id='M-PINCET-BLACK', product_id=359059215), ProductListItems(offer_id='M-SUPERLUBE-OIL-5G', product_id=359064388), ProductListItems(offer_id='M-BRUSH-BLACK', product_id=359068707), ProductListItems(offer_id='M-STABS-JKLP-PURPLE', product_id=359076211), ProductListItems(offer_id='M-STABS-JKLP-BLACK', product_id=359076625), ProductListItems(offer_id='M-STABS-JKLP-WHITE', product_id=359076809), ProductListItems(offer_id='M-SWITCH-FILM-KEYS', product_id=359083272), ProductListItems(offer_id='M-SWITCH-FILM-EVA', product_id=359083540), ProductListItems(offer_id='M-STICKER-UNDER-SWITCH-KELOWNA', product_id=361813502), ProductListItems(offer_id='M-STABS-PLATE-MOUNT-BLUE', product_id=373439142), ProductListItems(offer_id='K-PUDDING-WHITE', product_id=379161526), ProductListItems(offer_id='K-COFFIE', product_id=379161528), ProductListItems(offer_id='K-INDUSTRY', product_id=379161531), ProductListItems(offer_id='K-8008', product_id=379161532), ProductListItems(offer_id='K-PROGRAMMIST-OFFLINE', product_id=379161537), ProductListItems(offer_id='K-CAT-PINK', product_id=379161538), ProductListItems(offer_id='M-XBATALKA', product_id=381335661), ProductListItems(offer_id='M-STABS-PLATE-MOUNT-YELLOW', product_id=381342606), ProductListItems(offer_id='K-PUDDING-BLACK', product_id=381407475), ProductListItems(offer_id='S-KTT-GRAPEFRUIT-70', product_id=390465133), ProductListItems(offer_id='M-SUPERLUBE-OIL-6G', product_id=401207334), ProductListItems(offer_id='M-SUPERLUBE-OIL-7G', product_id=401207369), ProductListItems(offer_id='M-SUPERLUBE-OIL-8G', product_id=401207377), ProductListItems(offer_id='M-SUPERLUBE-OIL-9G', product_id=401207456), ProductListItems(offer_id='M-SUPERLUBE-OIL-10G', product_id=401207461), ProductListItems(offer_id='M-SUPERLUBE-OIL-15G', product_id=401207475), ProductListItems(offer_id='K-BOBAFETA', product_id=409908842), ProductListItems(offer_id='K-GRAY-AND-YELLOW', product_id=409908847), ProductListItems(offer_id='K-MINIMALISM', product_id=409908857), ProductListItems(offer_id='B-GAS-WHITE', product_id=409917337), ProductListItems(offer_id='B-JAMES-DONKEY-A3-WHITE', product_id=409955098), ProductListItems(offer_id='B-JAMES-DONKEY-A3-BLACK', product_id=409955437), ProductListItems(offer_id='M-ORING', product_id=410650947), ProductListItems(offer_id='K-RABBIT', product_id=410665088), ProductListItems(offer_id='K-INSPERATION', product_id=410665089), ProductListItems(offer_id='K-GRAY-AND-PINK-8008', product_id=410665090), ProductListItems(offer_id='K-EVANGELION', product_id=410665091), ProductListItems(offer_id='K-CLASSIC-BLACK', product_id=418694719), ProductListItems(offer_id='K-WHITE-CHERRY', product_id=418695379), ProductListItems(offer_id='K-CLASSIC-WHITE-RED', product_id=418695851), ProductListItems(offer_id='K-CLASSIC-WHITE-BLUE-V1', product_id=418695854), ProductListItems(offer_id='S-KTT-GRAPEFRUIT-90', product_id=419207553), ProductListItems(offer_id='S-KTT-GRAPEFRUIT-110', product_id=419209787), ProductListItems(offer_id='S-KTT-GRAPEFRUIT-30', product_id=419214274), ProductListItems(offer_id='S-KTT-GRAPEFRUIT-10', product_id=419214341), ProductListItems(offer_id='M-GLIDE-GPRO-SUPERLIGHT-EVA01', product_id=420527652), ProductListItems(offer_id='M-GLIDE-GPRO-SUPERLIGHT-PRINTSTREAM', product_id=420536712), ProductListItems(offer_id='M-GLIDE-GPRO-SUPERLIGHT-GALAXY', product_id=420536827), ProductListItems(offer_id='M-GLIDE-GPRO-WIRELESS-CYBERPUNK', product_id=420537004), ProductListItems(offer_id='M-GLIDE-RAZER-GALAXY', product_id=420537174), ProductListItems(offer_id='M-SHUMKA-GRAY-BIPLAST', product_id=424284935), ProductListItems(offer_id='M-SHUMKA-VOYLOK', product_id=424284948), ProductListItems(offer_id='M-SHUMKA-3-IN-1', product_id=424324749), ProductListItems(offer_id='K-ULTRAMARINE-SA', product_id=425249961), ProductListItems(offer_id='K-SUNNY-SA', product_id=425250126), ProductListItems(offer_id='M-GLIDE-GPRO-SUPERLIGHT-GLASS', product_id=429116781), ProductListItems(offer_id='K-COWBOI-SDA', product_id=433582410), ProductListItems(offer_id='M-SHUMKA-KEYCAP-PROBEL', product_id=439422428), ProductListItems(offer_id='M-KRYTOX-BDZ-5G', product_id=439467127), ProductListItems(offer_id='M-KRYTOX-BDZ-8G', product_id=439467130), ProductListItems(offer_id='M-KRYTOX-BDZ-9G', product_id=439467131), ProductListItems(offer_id='S-GATERON-GRPO-V2-10', product_id=440463070), ProductListItems(offer_id='K-SUSHI-PBT', product_id=440480377), ProductListItems(offer_id='K-COFFIE-GRAY-SPACE', product_id=440919726), ProductListItems(offer_id='B-MMD75-BLACK', product_id=443981911), ProductListItems(offer_id='B-MMD75-WHITE', product_id=443981912), ProductListItems(offer_id='M-VIPRYAMITEL', product_id=445717750), ProductListItems(offer_id='B-GMK67-BLACK', product_id=467309921), ProductListItems(offer_id='B-GMK67-WHITE', product_id=467310051), ProductListItems(offer_id='S-LEOBOG-BOX-V3-45', product_id=468075537), ProductListItems(offer_id='S-KTT-KANG-WHITE-45', product_id=468075538), ProductListItems(offer_id='S-LEOBOG-BOX-V3-90', product_id=468075540), ProductListItems(offer_id='S-OUTEMU-SILENT-PEACH-45', product_id=468075541), ProductListItems(offer_id='S-EQUALS-TANGERINE-70', product_id=468075542)], last_id='WyI0NjgwNzU1NDIiLCI0NjgwNzU1NDIiXQ==', total=400)\n"
          ]
        }
      ]
    }
  ]
}